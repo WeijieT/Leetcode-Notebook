{
  "cells": [
    {
      "cell_type": "markdown",
      "source": [
        "# Add Two Numbers"
      ],
      "metadata": {}
    },
    {
      "cell_type": "markdown",
      "source": [
        "You are given two non-empty linked lists representing two non-negative integers. The digits are stored in reverse order and each of their nodes contain a single digit. Add the two numbers and return it as a linked list.\n",
        "\nYou may assume the two numbers do not contain any leading zero, except the number 0 itself."
      ],
      "metadata": {}
    },
    {
      "cell_type": "markdown",
      "source": [
        ">Example:  \n",
        "Input: (2 -> 4 -> 3) + (5 -> 6 -> 4)  \n",
        "Output: 7 -> 0 -> 8  \n",
        "Explanation: 342 + 465 = 807.  "
      ],
      "metadata": {}
    },
    {
      "cell_type": "markdown",
      "source": [
        "注意点：\n",
        "- 两个List的长度可以不同\n",
        "- 不要忘记移动位置"
      ],
      "metadata": {
        "collapsed": false,
        "outputHidden": false,
        "inputHidden": false
      }
    },
    {
      "cell_type": "code",
      "source": [
        "# Definition for singly-linked list.\n",
        "# class ListNode(object):\n",
        "#     def __init__(self, x):\n",
        "#         self.val = x\n",
        "#         self.next = None\n",
        "\n",
        "class Solution(object):\n",
        "    def addTwoNumbers(self, l1, l2):\n",
        "        \"\"\"\n",
        "        :type l1: ListNode\n",
        "        :type l2: ListNode\n",
        "        :rtype: ListNode\n",
        "        \"\"\"\n",
        "        carry = 0\n",
        "        start = ListNode(None)\n",
        "        cur = start\n",
        "        \n",
        "        while l1 or l2 or carry:\n",
        "            _sum = 0\n",
        "            if l1:\n",
        "                _sum += l1.val\n",
        "                l1 = l1.next\n",
        "            if l2:\n",
        "                _sum += l2.val\n",
        "                l2 = l2.next\n",
        "            _sum += carry\n",
        "            carry, num = divmod(_sum, 10) \n",
        "            cur.next = ListNode(num)\n",
        "            cur = cur.next\n",
        "            \n",
        "        return start.next\n",
        "            "
      ],
      "outputs": [],
      "execution_count": null,
      "metadata": {
        "collapsed": false,
        "outputHidden": false,
        "inputHidden": false
      }
    }
  ],
  "metadata": {
    "kernelspec": {
      "name": "python3",
      "language": "python",
      "display_name": "Python 3"
    },
    "language_info": {
      "name": "python",
      "version": "3.7.2",
      "mimetype": "text/x-python",
      "codemirror_mode": {
        "name": "ipython",
        "version": 3
      },
      "pygments_lexer": "ipython3",
      "nbconvert_exporter": "python",
      "file_extension": ".py"
    },
    "varInspector": {
      "cols": {
        "lenName": 16,
        "lenType": 16,
        "lenVar": 40
      },
      "kernels_config": {
        "python": {
          "delete_cmd_postfix": "",
          "delete_cmd_prefix": "del ",
          "library": "var_list.py",
          "varRefreshCmd": "print(var_dic_list())"
        },
        "r": {
          "delete_cmd_postfix": ") ",
          "delete_cmd_prefix": "rm(",
          "library": "var_list.r",
          "varRefreshCmd": "cat(var_dic_list()) "
        }
      },
      "types_to_exclude": [
        "module",
        "function",
        "builtin_function_or_method",
        "instance",
        "_Feature"
      ],
      "window_display": false
    },
    "kernel_info": {
      "name": "python3"
    },
    "nteract": {
      "version": "0.12.3"
    }
  },
  "nbformat": 4,
  "nbformat_minor": 2
}