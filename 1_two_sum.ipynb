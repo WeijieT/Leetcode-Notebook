{
  "cells": [
    {
      "cell_type": "markdown",
      "source": [
        "# Two Sum"
      ],
      "metadata": {}
    },
    {
      "cell_type": "markdown",
      "source": [
        "Given an array of integers, return indices of the two numbers such that they add up to a specific target.\n",
        "\nYou may assume that each input would have exactly one solution, and you may not use the same element twice."
      ],
      "metadata": {}
    },
    {
      "cell_type": "markdown",
      "source": [
        ">Example:  \n",
        "Given nums = [2, 7, 11, 15], target = 9,  \n",
        "Because nums[0] + nums[1] = 2 + 7 = 9,  \n",
        "return [0, 1]."
      ],
      "metadata": {}
    },
    {
      "cell_type": "markdown",
      "source": [
        "# brute force"
      ],
      "metadata": {}
    },
    {
      "cell_type": "code",
      "source": [
        "# brute force\n",
        "class Solution:\n",
        "    def twoSum(self, nums, target):\n",
        "        for first in range(len(nums)):\n",
        "            for second in range(first+1,len(nums)):\n",
        "                if nums[first] + nums[second] == target:\n",
        "                    return [first, second]"
      ],
      "outputs": [],
      "execution_count": 13,
      "metadata": {}
    },
    {
      "cell_type": "code",
      "source": [
        "class Solution:\n",
        "    def twoSum(self, nums, target):\n",
        "        for index_i,num_i in enumerate(nums):\n",
        "            for index_j, num_j in enumerate(nums):\n",
        "                if (target == num_i + num_j) and (index_i != index_j):\n",
        "                    return [index_i, index_j]"
      ],
      "outputs": [],
      "execution_count": null,
      "metadata": {}
    },
    {
      "cell_type": "markdown",
      "source": [
        "# Two-pass Hash Table"
      ],
      "metadata": {}
    },
    {
      "cell_type": "markdown",
      "source": [
        "利用哈希表降低时间复杂度，架构良好哈希表对与查询删除和插入只需要固定时间 O(n)  \n",
        "Python中的dict为哈希表结构  \n",
        "把nums(type:list)中number和index分别作为key和value存入一个Python字典中  \n",
        "每次循环(iteration)查找 target-当前循环的数字 是否存在于字典内"
      ],
      "metadata": {}
    },
    {
      "cell_type": "markdown",
      "source": [
        "```\n",
        "Two-pass Hash Table\n",
        "To improve our run time complexity, we need a more efficient way to check if the complement exists in the array. If the complement exists, we need to look up its index. What is the best way to maintain a mapping of each element in the array to its index? A hash table.  \n",
        "\n",
        "We reduce the look up time from O(n)O(n) to O(1)O(1) by trading space for speed. A hash table is built exactly for this purpose, it supports fast look up in near constant time. I say \"near\" because if a collision occurred, a look up could degenerate to O(n)O(n) time. But look up in hash table should be amortized O(1)O(1) time as long as the hash function was chosen carefully.  \n",
        "\n",
        "A simple implementation uses two iterations. In the first iteration, we add each element's value and its index to the table. Then, in the second iteration we check if each element's complement (target - nums[i]target−nums[i]) exists in the table. Beware that the complement must not be nums[i]nums[i] itself!  \n",
        "```"
      ],
      "metadata": {}
    },
    {
      "cell_type": "markdown",
      "source": [
        "Complexity Analysis:\n",
        "\n",
        "Time complexity : O(n)O(n). We traverse the list containing nn elements exactly twice. Since the hash table reduces the look up time to O(1)O(1), the time complexity is O(n)O(n).\n",
        "\n",
        "Space complexity : O(n)O(n). The extra space required depends on the number of items stored in the hash table, which stores exactly nn elements.\n"
      ],
      "metadata": {}
    },
    {
      "cell_type": "code",
      "source": [
        "# hash table version 1\n",
        "class Solution:\n",
        "    def twoSum(self, nums, target):\n",
        "        dic={}\n",
        "        for index, item in enumerate(nums):\n",
        "            dic[item] = index\n",
        "        for index, item in enumerate(nums):\n",
        "            if target - item in dic and (target - item) != item:\n",
        "                return [index, dic[target - item]]"
      ],
      "outputs": [],
      "execution_count": 16,
      "metadata": {}
    },
    {
      "cell_type": "markdown",
      "source": [
        "# One-pass Hash Table"
      ],
      "metadata": {}
    },
    {
      "cell_type": "markdown",
      "source": [
        "```\n",
        "It turns out we can do it in one-pass. While we iterate and inserting elements into the table, we also look back to check if current element's complement already exists in the table. If it exists, we have found a solution and return immediately.\n",
        "```"
      ],
      "metadata": {}
    },
    {
      "cell_type": "markdown",
      "source": [
        "Complexity Analysis:\n",
        "\n",
        "Time complexity : O(n)O(n). We traverse the list containing nn elements only once. Each look up in the table costs only O(1)O(1) time.\n",
        "\nSpace complexity : O(n)O(n). The extra space required depends on the number of items stored in the hash table, which stores at most nn elements."
      ],
      "metadata": {}
    },
    {
      "cell_type": "code",
      "source": [
        "# hash table version 2\n",
        "# best\n",
        "class Solution:\n",
        "    def twoSum(self, nums, target):\n",
        "        dic={}\n",
        "        for index, item in enumerate(nums):\n",
        "            if item in dic:\n",
        "                return [dic[item],index]\n",
        "            else:\n",
        "                dic[target - item] = index"
      ],
      "outputs": [],
      "execution_count": null,
      "metadata": {}
    },
    {
      "cell_type": "code",
      "source": [
        "test=Solution()\n",
        "test.twoSum([2,4,8],6)"
      ],
      "outputs": [
        {
          "output_type": "execute_result",
          "execution_count": 17,
          "data": {
            "text/plain": [
              "[0, 1]"
            ]
          },
          "metadata": {}
        }
      ],
      "execution_count": 17,
      "metadata": {
        "scrolled": true
      }
    },
    {
      "cell_type": "markdown",
      "source": [
        "---"
      ],
      "metadata": {}
    },
    {
      "cell_type": "markdown",
      "source": [
        "## enumerate(iterable, start=0)"
      ],
      "metadata": {}
    },
    {
      "cell_type": "markdown",
      "source": [
        "enumerate(iterable, start=0)\n",
        "Return an enumerate object. iterable must be a sequence, an iterator, or some other object which supports iteration. The __next__() method of the iterator returned by enumerate() returns a tuple containing a count (from start which defaults to 0) and the values obtained from iterating over iterable."
      ],
      "metadata": {}
    }
  ],
  "metadata": {
    "kernelspec": {
      "name": "python3",
      "language": "python",
      "display_name": "Python 3"
    },
    "language_info": {
      "name": "python",
      "version": "3.7.2",
      "mimetype": "text/x-python",
      "codemirror_mode": {
        "name": "ipython",
        "version": 3
      },
      "pygments_lexer": "ipython3",
      "nbconvert_exporter": "python",
      "file_extension": ".py"
    },
    "varInspector": {
      "cols": {
        "lenName": 16,
        "lenType": 16,
        "lenVar": 40
      },
      "kernels_config": {
        "python": {
          "delete_cmd_postfix": "",
          "delete_cmd_prefix": "del ",
          "library": "var_list.py",
          "varRefreshCmd": "print(var_dic_list())"
        },
        "r": {
          "delete_cmd_postfix": ") ",
          "delete_cmd_prefix": "rm(",
          "library": "var_list.r",
          "varRefreshCmd": "cat(var_dic_list()) "
        }
      },
      "types_to_exclude": [
        "module",
        "function",
        "builtin_function_or_method",
        "instance",
        "_Feature"
      ],
      "window_display": false
    },
    "kernel_info": {
      "name": "python3"
    },
    "nteract": {
      "version": "0.12.3"
    }
  },
  "nbformat": 4,
  "nbformat_minor": 2
}